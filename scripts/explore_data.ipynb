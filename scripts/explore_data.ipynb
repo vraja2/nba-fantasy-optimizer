{
 "cells": [
  {
   "cell_type": "code",
   "execution_count": 2,
   "metadata": {
    "collapsed": false
   },
   "outputs": [
    {
     "name": "stdout",
     "output_type": "stream",
     "text": [
      "year\n",
      "player\n",
      "totals-Rk\n",
      "totals-Pos\n",
      "totals-Age\n",
      "totals-Tm\n",
      "totals-G\n",
      "totals-GS\n",
      "totals-MP\n",
      "totals-FG\n",
      "totals-FGA\n",
      "totals-FG%\n",
      "totals-3P\n",
      "totals-3PA\n",
      "totals-3P%\n",
      "totals-2P\n",
      "totals-2PA\n",
      "totals-2P%\n",
      "totals-eFG%\n",
      "totals-FT\n",
      "totals-FTA\n",
      "totals-FT%\n",
      "totals-ORB\n",
      "totals-DRB\n",
      "totals-TRB\n",
      "totals-AST\n",
      "totals-STL\n",
      "totals-BLK\n",
      "totals-TOV\n",
      "totals-PF\n",
      "totals-PTS\n",
      "per_game-Rk\n",
      "per_game-Pos\n",
      "per_game-Age\n",
      "per_game-Tm\n",
      "per_game-G\n",
      "per_game-GS\n",
      "per_game-MP\n",
      "per_game-FG\n",
      "per_game-FGA\n",
      "per_game-FG%\n",
      "per_game-3P\n",
      "per_game-3PA\n",
      "per_game-3P%\n",
      "per_game-2P\n",
      "per_game-2PA\n",
      "per_game-2P%\n",
      "per_game-eFG%\n",
      "per_game-FT\n",
      "per_game-FTA\n",
      "per_game-FT%\n",
      "per_game-ORB\n",
      "per_game-DRB\n",
      "per_game-TRB\n",
      "per_game-AST\n",
      "per_game-STL\n",
      "per_game-BLK\n",
      "per_game-TOV\n",
      "per_game-PF\n",
      "per_game-PTS\n",
      "per_minute-Rk\n",
      "per_minute-Pos\n",
      "per_minute-Age\n",
      "per_minute-Tm\n",
      "per_minute-G\n",
      "per_minute-GS\n",
      "per_minute-MP\n",
      "per_minute-FG\n",
      "per_minute-FGA\n",
      "per_minute-FG%\n",
      "per_minute-3P\n",
      "per_minute-3PA\n",
      "per_minute-3P%\n",
      "per_minute-2P\n",
      "per_minute-2PA\n",
      "per_minute-2P%\n",
      "per_minute-FT\n",
      "per_minute-FTA\n",
      "per_minute-FT%\n",
      "per_minute-ORB\n",
      "per_minute-DRB\n",
      "per_minute-TRB\n",
      "per_minute-AST\n",
      "per_minute-STL\n",
      "per_minute-BLK\n",
      "per_minute-TOV\n",
      "per_minute-PF\n",
      "per_minute-PTS\n",
      "per_poss-Rk\n",
      "per_poss-Pos\n",
      "per_poss-Age\n",
      "per_poss-Tm\n",
      "per_poss-G\n",
      "per_poss-GS\n",
      "per_poss-MP\n",
      "per_poss-FG\n",
      "per_poss-FGA\n",
      "per_poss-FG%\n",
      "per_poss-3P\n",
      "per_poss-3PA\n",
      "per_poss-3P%\n",
      "per_poss-2P\n",
      "per_poss-2PA\n",
      "per_poss-2P%\n",
      "per_poss-FT\n",
      "per_poss-FTA\n",
      "per_poss-FT%\n",
      "per_poss-ORB\n",
      "per_poss-DRB\n",
      "per_poss-TRB\n",
      "per_poss-AST\n",
      "per_poss-STL\n",
      "per_poss-BLK\n",
      "per_poss-TOV\n",
      "per_poss-PF\n",
      "per_poss-PTS\n",
      "per_poss-ORtg\n",
      "per_poss-DRtg\n",
      "advanced-Rk\n",
      "advanced-Pos\n",
      "advanced-Age\n",
      "advanced-Tm\n",
      "advanced-G\n",
      "advanced-MP\n",
      "advanced-PER\n",
      "advanced-TS%\n",
      "advanced-3PAr\n",
      "advanced-FTr\n",
      "advanced-ORB%\n",
      "advanced-DRB%\n",
      "advanced-TRB%\n",
      "advanced-AST%\n",
      "advanced-STL%\n",
      "advanced-BLK%\n",
      "advanced-TOV%\n",
      "advanced-USG%\n",
      "advanced-OWS\n",
      "advanced-DWS\n",
      "advanced-WS\n",
      "advanced-WS/48\n",
      "advanced-OBPM\n",
      "advanced-DBPM\n",
      "advanced-BPM\n",
      "advanced-VORP\n",
      "curr-eff\n",
      "next-eff\n"
     ]
    },
    {
     "name": "stderr",
     "output_type": "stream",
     "text": [
      "/Users/james/anaconda/lib/python2.7/site-packages/matplotlib/__init__.py:872: UserWarning: axes.color_cycle is deprecated and replaced with axes.prop_cycle; please use the latter.\n",
      "  warnings.warn(self.msg_depr % (key, alt_key))\n"
     ]
    }
   ],
   "source": [
    "%matplotlib inline\n",
    "\n",
    "import pandas as pd \n",
    "import numpy as np \n",
    "import seaborn as sns\n",
    "import statsmodels.api as sm\n",
    "import statsmodels.formula.api as smf\n",
    "import matplotlib\n",
    "import matplotlib.pyplot as plt \n",
    "import math\n",
    "from sklearn import linear_model, cross_validation, metrics\n",
    "from sklearn import feature_selection as fs\n",
    "from sklearn import preprocessing\n",
    "\n",
    "df = pd.read_csv('../data/cleanedSeasonStats.csv')\n",
    "for col in df.columns:\n",
    "    if 'Unnamed' in col or col[-1] == '-': # meaningless columns\n",
    "        del df[col]\n",
    "\n",
    "# Scikit breaks with NaNs, replace with 0s\n",
    "df.fillna(0, inplace=True)\n",
    "for col in df.columns:\n",
    "    print col"
   ]
  },
  {
   "cell_type": "code",
   "execution_count": 3,
   "metadata": {
    "collapsed": false
   },
   "outputs": [
    {
     "data": {
      "text/html": [
       "<div>\n",
       "<table border=\"1\" class=\"dataframe\">\n",
       "  <thead>\n",
       "    <tr style=\"text-align: right;\">\n",
       "      <th></th>\n",
       "      <th>year</th>\n",
       "      <th>player</th>\n",
       "      <th>totals-Rk</th>\n",
       "      <th>totals-Pos</th>\n",
       "      <th>totals-Age</th>\n",
       "      <th>totals-Tm</th>\n",
       "      <th>totals-G</th>\n",
       "      <th>totals-GS</th>\n",
       "      <th>totals-MP</th>\n",
       "      <th>totals-FG</th>\n",
       "      <th>...</th>\n",
       "      <th>advanced-OWS</th>\n",
       "      <th>advanced-DWS</th>\n",
       "      <th>advanced-WS</th>\n",
       "      <th>advanced-WS/48</th>\n",
       "      <th>advanced-OBPM</th>\n",
       "      <th>advanced-DBPM</th>\n",
       "      <th>advanced-BPM</th>\n",
       "      <th>advanced-VORP</th>\n",
       "      <th>curr-eff</th>\n",
       "      <th>next-eff</th>\n",
       "    </tr>\n",
       "  </thead>\n",
       "  <tbody>\n",
       "    <tr>\n",
       "      <th>0</th>\n",
       "      <td>1985</td>\n",
       "      <td>Kareem Abdul-Jabbar</td>\n",
       "      <td>1</td>\n",
       "      <td>C</td>\n",
       "      <td>37</td>\n",
       "      <td>LAL</td>\n",
       "      <td>79</td>\n",
       "      <td>79</td>\n",
       "      <td>2630</td>\n",
       "      <td>723</td>\n",
       "      <td>...</td>\n",
       "      <td>7.6</td>\n",
       "      <td>3.6</td>\n",
       "      <td>11.2</td>\n",
       "      <td>0.204</td>\n",
       "      <td>3.6</td>\n",
       "      <td>1.3</td>\n",
       "      <td>4.9</td>\n",
       "      <td>4.6</td>\n",
       "      <td>26.1</td>\n",
       "      <td>24.2</td>\n",
       "    </tr>\n",
       "    <tr>\n",
       "      <th>1</th>\n",
       "      <td>1985</td>\n",
       "      <td>Alvan Adams</td>\n",
       "      <td>2</td>\n",
       "      <td>PF</td>\n",
       "      <td>30</td>\n",
       "      <td>PHO</td>\n",
       "      <td>82</td>\n",
       "      <td>69</td>\n",
       "      <td>2136</td>\n",
       "      <td>476</td>\n",
       "      <td>...</td>\n",
       "      <td>3.5</td>\n",
       "      <td>3.3</td>\n",
       "      <td>6.8</td>\n",
       "      <td>0.152</td>\n",
       "      <td>2.3</td>\n",
       "      <td>2.1</td>\n",
       "      <td>4.4</td>\n",
       "      <td>3.5</td>\n",
       "      <td>18.3</td>\n",
       "      <td>15.5</td>\n",
       "    </tr>\n",
       "    <tr>\n",
       "      <th>2</th>\n",
       "      <td>1985</td>\n",
       "      <td>Mark Aguirre</td>\n",
       "      <td>3</td>\n",
       "      <td>SF</td>\n",
       "      <td>25</td>\n",
       "      <td>DAL</td>\n",
       "      <td>80</td>\n",
       "      <td>79</td>\n",
       "      <td>2699</td>\n",
       "      <td>794</td>\n",
       "      <td>...</td>\n",
       "      <td>5.3</td>\n",
       "      <td>1.9</td>\n",
       "      <td>7.2</td>\n",
       "      <td>0.128</td>\n",
       "      <td>3.6</td>\n",
       "      <td>-1.9</td>\n",
       "      <td>1.7</td>\n",
       "      <td>2.5</td>\n",
       "      <td>21.2</td>\n",
       "      <td>20.1</td>\n",
       "    </tr>\n",
       "    <tr>\n",
       "      <th>3</th>\n",
       "      <td>1985</td>\n",
       "      <td>Danny Ainge</td>\n",
       "      <td>4</td>\n",
       "      <td>SG</td>\n",
       "      <td>25</td>\n",
       "      <td>BOS</td>\n",
       "      <td>75</td>\n",
       "      <td>73</td>\n",
       "      <td>2564</td>\n",
       "      <td>419</td>\n",
       "      <td>...</td>\n",
       "      <td>3.9</td>\n",
       "      <td>2.8</td>\n",
       "      <td>6.6</td>\n",
       "      <td>0.124</td>\n",
       "      <td>1.3</td>\n",
       "      <td>0.4</td>\n",
       "      <td>1.7</td>\n",
       "      <td>2.4</td>\n",
       "      <td>16.3</td>\n",
       "      <td>13.8</td>\n",
       "    </tr>\n",
       "    <tr>\n",
       "      <th>4</th>\n",
       "      <td>1985</td>\n",
       "      <td>Ron Anderson</td>\n",
       "      <td>7</td>\n",
       "      <td>SF</td>\n",
       "      <td>26</td>\n",
       "      <td>CLE</td>\n",
       "      <td>36</td>\n",
       "      <td>7</td>\n",
       "      <td>520</td>\n",
       "      <td>84</td>\n",
       "      <td>...</td>\n",
       "      <td>0.0</td>\n",
       "      <td>0.3</td>\n",
       "      <td>0.3</td>\n",
       "      <td>0.032</td>\n",
       "      <td>-2.4</td>\n",
       "      <td>-1.0</td>\n",
       "      <td>-3.5</td>\n",
       "      <td>-0.2</td>\n",
       "      <td>5.3</td>\n",
       "      <td>9.7</td>\n",
       "    </tr>\n",
       "  </tbody>\n",
       "</table>\n",
       "<p>5 rows × 146 columns</p>\n",
       "</div>"
      ],
      "text/plain": [
       "   year               player  totals-Rk totals-Pos  totals-Age totals-Tm  \\\n",
       "0  1985  Kareem Abdul-Jabbar          1          C          37       LAL   \n",
       "1  1985          Alvan Adams          2         PF          30       PHO   \n",
       "2  1985         Mark Aguirre          3         SF          25       DAL   \n",
       "3  1985          Danny Ainge          4         SG          25       BOS   \n",
       "4  1985         Ron Anderson          7         SF          26       CLE   \n",
       "\n",
       "   totals-G  totals-GS  totals-MP  totals-FG    ...     advanced-OWS  \\\n",
       "0        79         79       2630        723    ...              7.6   \n",
       "1        82         69       2136        476    ...              3.5   \n",
       "2        80         79       2699        794    ...              5.3   \n",
       "3        75         73       2564        419    ...              3.9   \n",
       "4        36          7        520         84    ...              0.0   \n",
       "\n",
       "   advanced-DWS  advanced-WS  advanced-WS/48  advanced-OBPM  advanced-DBPM  \\\n",
       "0           3.6         11.2           0.204            3.6            1.3   \n",
       "1           3.3          6.8           0.152            2.3            2.1   \n",
       "2           1.9          7.2           0.128            3.6           -1.9   \n",
       "3           2.8          6.6           0.124            1.3            0.4   \n",
       "4           0.3          0.3           0.032           -2.4           -1.0   \n",
       "\n",
       "   advanced-BPM  advanced-VORP  curr-eff  next-eff  \n",
       "0           4.9            4.6      26.1      24.2  \n",
       "1           4.4            3.5      18.3      15.5  \n",
       "2           1.7            2.5      21.2      20.1  \n",
       "3           1.7            2.4      16.3      13.8  \n",
       "4          -3.5           -0.2       5.3       9.7  \n",
       "\n",
       "[5 rows x 146 columns]"
      ]
     },
     "execution_count": 3,
     "metadata": {},
     "output_type": "execute_result"
    }
   ],
   "source": [
    "df.head()"
   ]
  },
  {
   "cell_type": "code",
   "execution_count": 4,
   "metadata": {
    "collapsed": false,
    "scrolled": true
   },
   "outputs": [
    {
     "name": "stderr",
     "output_type": "stream",
     "text": [
      "/Users/james/anaconda/lib/python2.7/site-packages/pandas/core/frame.py:2320: SettingWithCopyWarning: \n",
      "A value is trying to be set on a copy of a slice from a DataFrame.\n",
      "Try using .loc[row_indexer,col_indexer] = value instead\n",
      "\n",
      "See the caveats in the documentation: http://pandas.pydata.org/pandas-docs/stable/indexing.html#indexing-view-versus-copy\n",
      "  self[k1] = value[k2]\n",
      "/Users/james/anaconda/lib/python2.7/site-packages/pandas/core/frame.py:2705: SettingWithCopyWarning: \n",
      "A value is trying to be set on a copy of a slice from a DataFrame\n",
      "\n",
      "See the caveats in the documentation: http://pandas.pydata.org/pandas-docs/stable/indexing.html#indexing-view-versus-copy\n",
      "  **kwargs)\n"
     ]
    },
    {
     "data": {
      "text/html": [
       "<div>\n",
       "<table border=\"1\" class=\"dataframe\">\n",
       "  <thead>\n",
       "    <tr style=\"text-align: right;\">\n",
       "      <th></th>\n",
       "      <th>next-eff</th>\n",
       "      <th>year</th>\n",
       "      <th>player</th>\n",
       "      <th>per_game-PTS</th>\n",
       "      <th>per_game-TRB</th>\n",
       "      <th>per_game-AST</th>\n",
       "      <th>per_game-STL</th>\n",
       "      <th>per_game-BLK</th>\n",
       "      <th>per_game-FG</th>\n",
       "      <th>per_game-FT</th>\n",
       "      <th>per_game-FGA</th>\n",
       "      <th>per_game-FTA</th>\n",
       "      <th>per_game-TOV</th>\n",
       "    </tr>\n",
       "  </thead>\n",
       "  <tbody>\n",
       "    <tr>\n",
       "      <th>0</th>\n",
       "      <td>24.2</td>\n",
       "      <td>1985</td>\n",
       "      <td>Kareem Abdul-Jabbar</td>\n",
       "      <td>0.592992</td>\n",
       "      <td>0.422460</td>\n",
       "      <td>0.220690</td>\n",
       "      <td>0.216216</td>\n",
       "      <td>0.375000</td>\n",
       "      <td>0.686567</td>\n",
       "      <td>0.362745</td>\n",
       "      <td>0.550360</td>\n",
       "      <td>0.381679</td>\n",
       "      <td>0.438596</td>\n",
       "    </tr>\n",
       "    <tr>\n",
       "      <th>1</th>\n",
       "      <td>15.5</td>\n",
       "      <td>1985</td>\n",
       "      <td>Alvan Adams</td>\n",
       "      <td>0.396226</td>\n",
       "      <td>0.326203</td>\n",
       "      <td>0.262069</td>\n",
       "      <td>0.378378</td>\n",
       "      <td>0.107143</td>\n",
       "      <td>0.432836</td>\n",
       "      <td>0.294118</td>\n",
       "      <td>0.402878</td>\n",
       "      <td>0.267176</td>\n",
       "      <td>0.421053</td>\n",
       "    </tr>\n",
       "    <tr>\n",
       "      <th>2</th>\n",
       "      <td>20.1</td>\n",
       "      <td>1985</td>\n",
       "      <td>Mark Aguirre</td>\n",
       "      <td>0.692722</td>\n",
       "      <td>0.320856</td>\n",
       "      <td>0.213793</td>\n",
       "      <td>0.216216</td>\n",
       "      <td>0.053571</td>\n",
       "      <td>0.738806</td>\n",
       "      <td>0.539216</td>\n",
       "      <td>0.705036</td>\n",
       "      <td>0.557252</td>\n",
       "      <td>0.561404</td>\n",
       "    </tr>\n",
       "    <tr>\n",
       "      <th>3</th>\n",
       "      <td>13.8</td>\n",
       "      <td>1985</td>\n",
       "      <td>Danny Ainge</td>\n",
       "      <td>0.347709</td>\n",
       "      <td>0.192513</td>\n",
       "      <td>0.365517</td>\n",
       "      <td>0.432432</td>\n",
       "      <td>0.017857</td>\n",
       "      <td>0.417910</td>\n",
       "      <td>0.156863</td>\n",
       "      <td>0.381295</td>\n",
       "      <td>0.137405</td>\n",
       "      <td>0.350877</td>\n",
       "    </tr>\n",
       "    <tr>\n",
       "      <th>4</th>\n",
       "      <td>9.7</td>\n",
       "      <td>1985</td>\n",
       "      <td>Ron Anderson</td>\n",
       "      <td>0.156334</td>\n",
       "      <td>0.128342</td>\n",
       "      <td>0.062069</td>\n",
       "      <td>0.081081</td>\n",
       "      <td>0.035714</td>\n",
       "      <td>0.171642</td>\n",
       "      <td>0.107843</td>\n",
       "      <td>0.194245</td>\n",
       "      <td>0.106870</td>\n",
       "      <td>0.157895</td>\n",
       "    </tr>\n",
       "  </tbody>\n",
       "</table>\n",
       "</div>"
      ],
      "text/plain": [
       "   next-eff  year               player  per_game-PTS  per_game-TRB  \\\n",
       "0      24.2  1985  Kareem Abdul-Jabbar      0.592992      0.422460   \n",
       "1      15.5  1985          Alvan Adams      0.396226      0.326203   \n",
       "2      20.1  1985         Mark Aguirre      0.692722      0.320856   \n",
       "3      13.8  1985          Danny Ainge      0.347709      0.192513   \n",
       "4       9.7  1985         Ron Anderson      0.156334      0.128342   \n",
       "\n",
       "   per_game-AST  per_game-STL  per_game-BLK  per_game-FG  per_game-FT  \\\n",
       "0      0.220690      0.216216      0.375000     0.686567     0.362745   \n",
       "1      0.262069      0.378378      0.107143     0.432836     0.294118   \n",
       "2      0.213793      0.216216      0.053571     0.738806     0.539216   \n",
       "3      0.365517      0.432432      0.017857     0.417910     0.156863   \n",
       "4      0.062069      0.081081      0.035714     0.171642     0.107843   \n",
       "\n",
       "   per_game-FGA  per_game-FTA  per_game-TOV  \n",
       "0      0.550360      0.381679      0.438596  \n",
       "1      0.402878      0.267176      0.421053  \n",
       "2      0.705036      0.557252      0.561404  \n",
       "3      0.381295      0.137405      0.350877  \n",
       "4      0.194245      0.106870      0.157895  "
      ]
     },
     "execution_count": 4,
     "metadata": {},
     "output_type": "execute_result"
    }
   ],
   "source": [
    "# Specify the features that we want to use.\n",
    "\n",
    "# For now, use everything numerical (except for obviously next_eff)\n",
    "numerics = ['int16', 'int32', 'int64', 'float16', 'float32', 'float64']\n",
    "feature_cols = list(set(df.select_dtypes(include=numerics).columns.values) - {'next-eff'})\n",
    "\n",
    "# Get X, and scale/normalize (do we want/need to scale?)\n",
    "data = df[feature_cols]\n",
    "data = pd.DataFrame(preprocessing.MinMaxScaler().fit_transform(data), columns=data.columns)\n",
    "\n",
    "# Get y\n",
    "target = df['next-eff']\n",
    "\n",
    "# Normalize the data on just a few columns\n",
    "# NOTE: This notebook doesn't use this, but svmrank might want it\n",
    "cols_to_norm = ['per_game-PTS', 'per_game-TRB', 'per_game-AST', 'per_game-STL', 'per_game-BLK', 'per_game-FG', 'per_game-FT', 'per_game-FGA', 'per_game-FTA', 'per_game-TOV']\n",
    "norm_df = df[['next-eff', 'year', 'player'] + cols_to_norm]\n",
    "norm_df[cols_to_norm] = norm_df[cols_to_norm].apply(lambda x: (x / abs(x.max())))\n",
    "norm_df.fillna(0, inplace=True)\n",
    "norm_df.to_csv('cleanedSeasonStats0to1.csv', index=False)\n",
    "norm_df.head()"
   ]
  },
  {
   "cell_type": "code",
   "execution_count": 105,
   "metadata": {
    "collapsed": false
   },
   "outputs": [
    {
     "data": {
      "text/plain": [
       "0.74062145195310247"
      ]
     },
     "execution_count": 105,
     "metadata": {},
     "output_type": "execute_result"
    }
   ],
   "source": [
    "# Let's try Lasso, letting scikit pick alpha.\n",
    "# lasso = linear_model.LinearRegression()\n",
    "lasso = linear_model.LassoCV(max_iter=5000, normalize=True, cv=5)\n",
    "lasso.fit(data, target)\n",
    "\n",
    "# 5-fold Cross Validation\n",
    "kfold = cross_validation.KFold(len(target), n_folds=5, shuffle=True)\n",
    "cross_validation.cross_val_score(lasso, data, target, cv=kfold, scoring='r2').mean()\n",
    "\n",
    "# It seems to do ~okay~, but we can do better. Lasso is not going to\n",
    "# be super stable, because a lot of our features are going to be \n",
    "# very, very correlated. See this for other methods which I will try\n",
    "# in the following cells. Furthermore, the features that we ~do~ get\n",
    "# are impacted by lots of duplication across \"games\", \"poss\", etc. "
   ]
  },
  {
   "cell_type": "code",
   "execution_count": 6,
   "metadata": {
    "collapsed": false,
    "scrolled": true
   },
   "outputs": [
    {
     "name": "stdout",
     "output_type": "stream",
     "text": [
      "0.739812715502\n"
     ]
    },
    {
     "data": {
      "text/plain": [
       "[('advanced-TS%', -5.5506973214834439),\n",
       " ('advanced-WS/48', 4.9572228346187508),\n",
       " ('curr-eff', 0.78651305785353842),\n",
       " ('advanced-FTr', 0.41030597283508174),\n",
       " ('per_poss-3P%', -0.24633381870640958),\n",
       " ('advanced-VORP', 0.24175114150472349),\n",
       " ('advanced-Age', -0.21599592250381766),\n",
       " ('per_poss-AST', 0.18911010252816066),\n",
       " ('per_poss-TOV', 0.18830254290790627),\n",
       " ('per_poss-2P%', 0.16927026580549354),\n",
       " ('advanced-DWS', 0.16487895059442961),\n",
       " ('per_poss-PF', -0.084285458766000645),\n",
       " ('advanced-WS', 0.079706919283602601),\n",
       " ('advanced-USG%', 0.07844199403898941),\n",
       " ('advanced-STL%', -0.066375609413050457),\n",
       " ('advanced-PER', -0.064190361589460426),\n",
       " ('advanced-AST%', -0.058099915434950286),\n",
       " ('per_poss-3PA', -0.051252935559142627),\n",
       " ('advanced-BLK%', 0.039288866133187189),\n",
       " ('advanced-OBPM', 0.037719301589134911),\n",
       " ('per_poss-DRtg', -0.03540009090037062),\n",
       " ('per_poss-ORB', -0.034082243282987104),\n",
       " ('per_poss-Age', -0.018300619269398213),\n",
       " ('per_poss-GS', -0.014869696467941469),\n",
       " ('advanced-TRB%', 0.0074205959672709416),\n",
       " ('per_poss-3P', -0.0068983598134950636),\n",
       " ('per_poss-FTA', 0.0050970748778603556),\n",
       " ('per_poss-ORtg', 0.003506499998967984),\n",
       " ('advanced-G', 0.0015982838459242484),\n",
       " ('per_poss-Rk', -0.00016295964883405174),\n",
       " ('per_poss-MP', -6.7151937537854379e-05),\n",
       " ('per_poss-G', 3.8906478653614977e-05),\n",
       " ('advanced-Rk', -2.6841872766284454e-05),\n",
       " ('advanced-MP', -6.8597531239691243e-07)]"
      ]
     },
     "execution_count": 6,
     "metadata": {},
     "output_type": "execute_result"
    }
   ],
   "source": [
    "# Get features columns that don't overlap \n",
    "def is_redundant(col):\n",
    "    return 'totals' in col or 'per_game' in col or 'per_minute' in col\n",
    "\n",
    "redundant = filter(lambda col: is_redundant(col), df.columns.values)\n",
    "feature_cols = list(set(df.select_dtypes(include=numerics).columns.values) \\\n",
    "                    - {'next-eff'} \\\n",
    "                    - set(redundant))\n",
    "data = df[feature_cols]\n",
    "\n",
    "# Try Lasso again\n",
    "lasso = linear_model.LassoCV(max_iter=5000, normalize=True, cv=5)\n",
    "lasso.fit(data, target)\n",
    "\n",
    "# 5-fold Cross Validation\n",
    "kfold = cross_validation.KFold(len(target), n_folds=5, shuffle=True)\n",
    "print cross_validation.cross_val_score(lasso, data, target, cv=kfold, scoring='r2').mean()\n",
    "\n",
    "# View coefficients\n",
    "coefficients = sorted([(feature_cols[i], lasso.coef_[i]) for i in range(len(feature_cols))], key=lambda tup: abs(tup[1]), reverse=True)\n",
    "filter(lambda tup: abs(tup[1]) != 0, coefficients)"
   ]
  },
  {
   "cell_type": "code",
   "execution_count": 7,
   "metadata": {
    "collapsed": false,
    "scrolled": true
   },
   "outputs": [
    {
     "name": "stdout",
     "output_type": "stream",
     "text": [
      "0.734647816189\n"
     ]
    },
    {
     "data": {
      "text/plain": [
       "[('advanced-WS/48', 12.343328944056179),\n",
       " ('advanced-TS%', -6.5038230898405995),\n",
       " ('advanced-FTr', 0.90134042268242431),\n",
       " ('curr-eff', 0.73731497027060933),\n",
       " ('per_poss-FT%', 0.53565769759129167),\n",
       " ('per_poss-ORB', -0.34992253444233523),\n",
       " ('advanced-3PAr', 0.29287802463058527),\n",
       " ('per_poss-TOV', 0.25907178258359148),\n",
       " ('advanced-Age', -0.22421161557271815),\n",
       " ('per_poss-3P%', -0.20218177554862143),\n",
       " ('per_poss-PF', -0.18552810091564068),\n",
       " ('per_poss-AST', 0.18358849513928457),\n",
       " ('advanced-PER', -0.17562752117296146),\n",
       " ('advanced-OBPM', 0.14602489189253823),\n",
       " ('per_poss-BLK', 0.12909373970358018),\n",
       " ('advanced-VORP', 0.12273096862332343),\n",
       " ('advanced-ORB%', 0.10877662864323549),\n",
       " ('advanced-TRB%', 0.10060732822757563),\n",
       " ('per_poss-2PA', 0.096967141130980664),\n",
       " ('per_poss-STL', 0.095331974033196556),\n",
       " ('advanced-WS', 0.068164300707347747),\n",
       " ('advanced-USG%', 0.051587498385934023),\n",
       " ('advanced-AST%', -0.049413031437908345),\n",
       " ('advanced-BLK%', 0.040843417051196131),\n",
       " ('per_poss-DRtg', -0.037807048571542809),\n",
       " ('advanced-DWS', 0.034642896921731885),\n",
       " ('per_poss-Age', -0.031978531008623981),\n",
       " ('advanced-BPM', 0.028881672455221982),\n",
       " ('advanced-TOV%', 0.02528447109894013),\n",
       " ('per_poss-2P%', 0.019656480577049735),\n",
       " ('per_poss-GS', -0.01138933348114329),\n",
       " ('per_poss-2P', 0.0054924217470802873),\n",
       " ('advanced-G', 0.0040556848879150769),\n",
       " ('per_poss-Rk', -0.00023993299600112732),\n",
       " ('per_poss-G', 0.00022662241443547983),\n",
       " ('advanced-Rk', -3.0690311873756989e-05)]"
      ]
     },
     "execution_count": 7,
     "metadata": {},
     "output_type": "execute_result"
    }
   ],
   "source": [
    "# Okay, so Lasso isn't very stable, which is expected. \n",
    "# What is NOT expected is a fat negative weight with advanced_TS%. \n",
    "# Getting some lucky threes will hugely inflate that, which with\n",
    "# squared error is no bueno.\n",
    "\n",
    "# Try removing players that didn't play much that season.\n",
    "nbw_df = df[df['totals-MP'] >= df['totals-MP'].quantile(.1)] # nbw, short for no benchwarmers\n",
    "nbw_data = nbw_df[feature_cols]\n",
    "nbw_target = nbw_df['next-eff']\n",
    "nbw_lasso = linear_model.LassoCV(max_iter=5000, normalize=True, cv=5)\n",
    "nbw_lasso.fit(nbw_data, nbw_target)\n",
    "\n",
    "# 5-fold cross validation again\n",
    "kfold = cross_validation.KFold(len(nbw_target), n_folds=5, shuffle=True)\n",
    "print cross_validation.cross_val_score(nbw_lasso, nbw_data, nbw_target, cv=kfold, scoring='r2').mean()\n",
    "\n",
    "# View coefficients\n",
    "coefficients = sorted([(feature_cols[i], nbw_lasso.coef_[i]) for i in range(len(feature_cols))], key=lambda tup: abs(tup[1]), reverse=True)\n",
    "filter(lambda tup: abs(tup[1]) != 0, coefficients)\n",
    "\n",
    "# plt.scatter(nbw_df['advanced-WS/48'], nbw_target)\n",
    "# plt.show()"
   ]
  },
  {
   "cell_type": "code",
   "execution_count": 8,
   "metadata": {
    "collapsed": true
   },
   "outputs": [],
   "source": [
    "# Removing people that hardly played didn't really benefit very much. \n",
    "# Let's fly through a bunch of models and try to see which performs \n",
    "# well without any feature engineering. "
   ]
  },
  {
   "cell_type": "code",
   "execution_count": 9,
   "metadata": {
    "collapsed": false
   },
   "outputs": [
    {
     "data": {
      "text/plain": [
       "0.74029035291667733"
      ]
     },
     "execution_count": 9,
     "metadata": {},
     "output_type": "execute_result"
    }
   ],
   "source": [
    "# Elastic Net (use L1 and L2 error)\n",
    "\"\"\"NOTE: I let it use 4 threads. Edit n_jobs if you want to limit that.\"\"\"\n",
    "elastic_net = linear_model.ElasticNetCV(n_jobs=4, l1_ratio=[.1, .5, .7, .9, .95, .99, 1], max_iter=50000, normalize=True, cv=5)\n",
    "elastic_net.fit(data, target)\n",
    "kfold = cross_validation.KFold(len(target), n_folds=5, shuffle=True)\n",
    "cross_validation.cross_val_score(elastic_net, data, target, cv=kfold, scoring='r2').mean()\n",
    "# plt.scatter(target, elastic_net.predict(data))\n",
    "# plt.show()"
   ]
  },
  {
   "cell_type": "code",
   "execution_count": 10,
   "metadata": {
    "collapsed": false
   },
   "outputs": [
    {
     "data": {
      "text/plain": [
       "0.41216140227721809"
      ]
     },
     "execution_count": 10,
     "metadata": {},
     "output_type": "execute_result"
    }
   ],
   "source": [
    "# RANSAC (robust regression, hopefully resists outliers)\n",
    "ransac = linear_model.RANSACRegressor(max_trials=1000) # TODO: pick features better? (cross-validation?)\n",
    "ransac.fit(data, target) \n",
    "kfold = cross_validation.KFold(len(target), n_folds=5, shuffle=True)\n",
    "cross_validation.cross_val_score(ransac, data, target, cv=kfold, scoring='r2').mean()\n",
    "# plt.scatter(target, elastic_net.predict(data))\n",
    "# plt.show()"
   ]
  },
  {
   "cell_type": "code",
   "execution_count": 11,
   "metadata": {
    "collapsed": false
   },
   "outputs": [
    {
     "data": {
      "text/plain": [
       "0.69387675457406295"
      ]
     },
     "execution_count": 11,
     "metadata": {},
     "output_type": "execute_result"
    }
   ],
   "source": [
    "# Boosted regression trees (adaboost and decision trees)\n",
    "from sklearn.tree import DecisionTreeRegressor\n",
    "from sklearn.ensemble import AdaBoostRegressor\n",
    "regr_1 = DecisionTreeRegressor(max_depth=4) # TODO: pick features better? (cross-validation?)\n",
    "regr_2 = AdaBoostRegressor(DecisionTreeRegressor(max_depth=4)) # TODO: pick features better? (cross-validation?)\n",
    "regr_1.fit(data, target)\n",
    "regr_2.fit(data, target)\n",
    "kfold = cross_validation.KFold(len(target), n_folds=5, shuffle=True)\n",
    "cross_validation.cross_val_score(regr_2, data, target, cv=kfold, scoring='r2').mean()"
   ]
  },
  {
   "cell_type": "code",
   "execution_count": 12,
   "metadata": {
    "collapsed": false
   },
   "outputs": [
    {
     "data": {
      "text/plain": [
       "0.7060468440360641"
      ]
     },
     "execution_count": 12,
     "metadata": {},
     "output_type": "execute_result"
    }
   ],
   "source": [
    "# Random forest\n",
    "from sklearn.ensemble.forest import RandomForestRegressor\n",
    "rfr = RandomForestRegressor() # TODO: pick features better? (cross-validation?)\n",
    "rfr.fit(data, target)\n",
    "kfold = cross_validation.KFold(len(target), n_folds=5, shuffle=True)\n",
    "cross_validation.cross_val_score(rfr, data, target, cv=kfold, scoring='r2').mean()"
   ]
  },
  {
   "cell_type": "code",
   "execution_count": 13,
   "metadata": {
    "collapsed": false
   },
   "outputs": [
    {
     "data": {
      "text/plain": [
       "-0.029355619675222756"
      ]
     },
     "execution_count": 13,
     "metadata": {},
     "output_type": "execute_result"
    }
   ],
   "source": [
    "# SVM regression\n",
    "from sklearn import svm\n",
    "svm_reg = svm.SVR() # TODO: pick features better? (cross-validation?)\n",
    "svm_reg.fit(data, target)\n",
    "kfold = cross_validation.KFold(len(target), n_folds=5, shuffle=True)\n",
    "cross_validation.cross_val_score(svm_reg, data, target, cv=kfold, scoring='r2').mean()\n",
    "\n",
    "# LOL this is so fucked, why is that?\n",
    "# plt.scatter(target, svm_reg.predict(data))\n",
    "# plt.show()"
   ]
  },
  {
   "cell_type": "code",
   "execution_count": 14,
   "metadata": {
    "collapsed": true
   },
   "outputs": [],
   "source": [
    "# It appears that just throwing fancier models at it won't do the trick.\n",
    "# Let's try to get better features selected before diving into the engineering."
   ]
  },
  {
   "cell_type": "code",
   "execution_count": 15,
   "metadata": {
    "collapsed": false
   },
   "outputs": [
    {
     "data": {
      "text/plain": [
       "0.70578716945728737"
      ]
     },
     "execution_count": 15,
     "metadata": {},
     "output_type": "execute_result"
    }
   ],
   "source": [
    "# Univariate feature selection\n",
    "pruned_data = fs.SelectKBest(fs.f_regression, k=1).fit_transform(data, target)\n",
    "\n",
    "elastic_net = linear_model.ElasticNetCV(n_jobs=4, l1_ratio=[.1, .5, .7, .9, .95, .99, 1], max_iter=50000, normalize=True, cv=5)\n",
    "elastic_net.fit(pruned_data, target)\n",
    "kfold = cross_validation.KFold(len(target), n_folds=5, shuffle=True)\n",
    "cross_validation.cross_val_score(elastic_net, pruned_data, target, cv=kfold, scoring='r2').mean()"
   ]
  },
  {
   "cell_type": "code",
   "execution_count": 16,
   "metadata": {
    "collapsed": false
   },
   "outputs": [],
   "source": [
    "# God dammit, freaking just 1 variable (curr_eff) is enough to get 0.705865 R^2?\n",
    "# Fuck, it's ALL in the engineering now. "
   ]
  },
  {
   "cell_type": "code",
   "execution_count": 17,
   "metadata": {
    "collapsed": false,
    "scrolled": false
   },
   "outputs": [
    {
     "data": {
      "text/plain": [
       "0.73912177351336528"
      ]
     },
     "execution_count": 17,
     "metadata": {},
     "output_type": "execute_result"
    }
   ],
   "source": [
    "# Let's try PCA + ElasticNet\n",
    "from sklearn import decomposition\n",
    "pca = decomposition.PCA(n_components=25) # TODO: explicitly set n_components=???\n",
    "pca_data = pca.fit_transform(data)\n",
    "\n",
    "elastic_net = linear_model.ElasticNetCV(n_jobs=4, l1_ratio=[.1, .5, .7, .9, .95, .99, 1], max_iter=50000, normalize=True, cv=5)\n",
    "elastic_net.fit(pca_data, target)\n",
    "kfold = cross_validation.KFold(len(target), n_folds=5, shuffle=True)\n",
    "cross_validation.cross_val_score(elastic_net, pca_data, target, cv=kfold, scoring='r2').mean()"
   ]
  },
  {
   "cell_type": "code",
   "execution_count": 106,
   "metadata": {
    "collapsed": false
   },
   "outputs": [
    {
     "name": "stdout",
     "output_type": "stream",
     "text": [
      "10115\n",
      "10041\n"
     ]
    },
    {
     "data": {
      "text/plain": [
       "0.74922708035901264"
      ]
     },
     "execution_count": 106,
     "metadata": {},
     "output_type": "execute_result"
    }
   ],
   "source": [
    "# Okay, even PCA didn't help. Let's make some features that take into account\n",
    "# some trends, and then use ElasticNet.\n",
    "# trend_df = pd.read_csv('../data/cleanedSeasonStats.csv')\n",
    "trend_df = pd.read_csv('../data/test.csv')\n",
    "for col in trend_df.columns:\n",
    "    if 'Unnamed' in col or col[-1] == '-': # meaningless columns\n",
    "        del trend_df[col]\n",
    "\n",
    "# Scikit breaks with NaNs, replace with 0s\n",
    "trend_df.fillna(0, inplace=True)\n",
    "\n",
    "# For now, use everything numerical (except for obviously next_eff)\n",
    "numerics = ['int16', 'int32', 'int64', 'float16', 'float32', 'float64']\n",
    "\n",
    "# Clean the data more (remove outliers, redundancies)\n",
    "illegal = {'pred', 'next-eff', 'next-eff-slope-1pb', 'next-eff-slope-2pb', 'next-eff-slope-3pb'}\n",
    "noisy = {'year', 'per_poss-Rk', 'advanced-Rk'}\n",
    "redundant = set(filter(lambda col: is_redundant(col), trend_df.columns.values)) | {'advanced-Age'}\n",
    "trend_feature_cols = list(set(trend_df.select_dtypes(include=numerics).columns.values) \\\n",
    "                    - illegal - noisy - redundant)\n",
    "print len(trend_df)\n",
    "trend_df = trend_df[trend_df['per_poss-Age'] != 0]\n",
    "trend_df = trend_df[trend_df['per_poss-TOV'] <= 20]\n",
    "trend_df = trend_df[trend_df['per_poss-DRtg'] >= 80]\n",
    "trend_df = trend_df[trend_df['advanced-ORB%'] <= 90]\n",
    "trend_df = trend_df[trend_df['advanced-FTr'] < 1]\n",
    "trend_df['sqrt-VORP'] = np.power(trend_df['advanced-VORP'], 2)\n",
    "trend_df['log-GS'] = np.log(trend_df['per_poss-GS'] + 1)\n",
    "trend_df['age-minutes'] = trend_df['per_poss-MP'] * trend_df['per_poss-Age']\n",
    "trend_df['sqrt-GS'] = np.sqrt(trend_df['per_poss-GS'])\n",
    "\n",
    "# trend_df = trend_df[trend_df['per_poss-2P%'] != 0]\n",
    "\n",
    "# trend_df = trend_df[trend_df['per_poss-Pos'] == 'PF']\n",
    "# ^ actually pretty helpful\n",
    "# trend_df = trend_df[trend_df['year'] >= 1995]\n",
    "# for col in trend_feature_cols + ['next-eff']:\n",
    "#     trend_df = trend_df[trend_df[col] >= trend_df[col].quantile(.001)]\n",
    "# trend_df = trend_df[trend_df['next-eff'] >= 0.1]\n",
    "# trend_df = trend_df.iloc[np.random.permutation(len(trend_df))][:1600]\n",
    "print len(trend_df)\n",
    "trend_target = trend_df['next-eff'] \n",
    "\n",
    "# Get X, and scale/normalize (do we want/need to scale?)\n",
    "trend_data = trend_df[trend_feature_cols]\n",
    "trend_data = pd.DataFrame(preprocessing.MinMaxScaler().fit_transform(trend_data), columns=trend_data.columns)\n",
    "\n",
    "# Train the model\n",
    "# trend_elastic_net = RandomForestRegressor()\n",
    "# trend_elastic_net = linear_model.LinearRegression()\n",
    "# trend_elastic_net = linear_model.LassoCV(max_iter=5000, normalize=True, cv=5)\n",
    "trend_elastic_net = linear_model.ElasticNetCV(n_jobs=4, l1_ratio=[.1, .5, .7, .9, .95, .99, 1], max_iter=50000, normalize=True, cv=10)\n",
    "# trend_elastic_net = svm.SVR(kernel='poly', C=1e3, degree=2)\n",
    "trend_elastic_net.fit(trend_data, trend_target)\n",
    "\n",
    "# Test performance of model\n",
    "def percentage_error(model, X, y):\n",
    "    return (abs(model.predict(X) - y)/abs(y)).mean()\n",
    "\n",
    "kfold = cross_validation.KFold(len(trend_target), n_folds=10, shuffle=True)\n",
    "cross_validation.cross_val_score(trend_elastic_net, trend_data, trend_target, cv=kfold, scoring='r2').mean()\n",
    "# cross_validation.cross_val_score(trend_elastic_net, trend_data, trend_target, cv=kfold, scoring=percentage_error).mean()"
   ]
  },
  {
   "cell_type": "code",
   "execution_count": 94,
   "metadata": {
    "collapsed": false
   },
   "outputs": [
    {
     "ename": "ValueError",
     "evalue": "coef_ is only available when using a linear kernel",
     "output_type": "error",
     "traceback": [
      "\u001b[0;31m---------------------------------------------------------------------------\u001b[0m",
      "\u001b[0;31mValueError\u001b[0m                                Traceback (most recent call last)",
      "\u001b[0;32m<ipython-input-94-1ba267da760e>\u001b[0m in \u001b[0;36m<module>\u001b[0;34m()\u001b[0m\n\u001b[1;32m      2\u001b[0m \u001b[0;31m# plt.show()\u001b[0m\u001b[0;34m\u001b[0m\u001b[0;34m\u001b[0m\u001b[0m\n\u001b[1;32m      3\u001b[0m \u001b[0;34m\u001b[0m\u001b[0m\n\u001b[0;32m----> 4\u001b[0;31m \u001b[0mcoefficients\u001b[0m \u001b[0;34m=\u001b[0m \u001b[0msorted\u001b[0m\u001b[0;34m(\u001b[0m\u001b[0;34m[\u001b[0m\u001b[0;34m(\u001b[0m\u001b[0mtrend_feature_cols\u001b[0m\u001b[0;34m[\u001b[0m\u001b[0mi\u001b[0m\u001b[0;34m]\u001b[0m\u001b[0;34m,\u001b[0m \u001b[0mtrend_elastic_net\u001b[0m\u001b[0;34m.\u001b[0m\u001b[0mcoef_\u001b[0m\u001b[0;34m[\u001b[0m\u001b[0mi\u001b[0m\u001b[0;34m]\u001b[0m\u001b[0;34m)\u001b[0m \u001b[0;32mfor\u001b[0m \u001b[0mi\u001b[0m \u001b[0;32min\u001b[0m \u001b[0mrange\u001b[0m\u001b[0;34m(\u001b[0m\u001b[0mlen\u001b[0m\u001b[0;34m(\u001b[0m\u001b[0mtrend_feature_cols\u001b[0m\u001b[0;34m)\u001b[0m\u001b[0;34m)\u001b[0m\u001b[0;34m]\u001b[0m\u001b[0;34m,\u001b[0m \u001b[0mkey\u001b[0m\u001b[0;34m=\u001b[0m\u001b[0;32mlambda\u001b[0m \u001b[0mtup\u001b[0m\u001b[0;34m:\u001b[0m \u001b[0mabs\u001b[0m\u001b[0;34m(\u001b[0m\u001b[0mtup\u001b[0m\u001b[0;34m[\u001b[0m\u001b[0;36m1\u001b[0m\u001b[0;34m]\u001b[0m\u001b[0;34m)\u001b[0m\u001b[0;34m,\u001b[0m \u001b[0mreverse\u001b[0m\u001b[0;34m=\u001b[0m\u001b[0mTrue\u001b[0m\u001b[0;34m)\u001b[0m\u001b[0;34m\u001b[0m\u001b[0m\n\u001b[0m\u001b[1;32m      5\u001b[0m \u001b[0mimportant_coef\u001b[0m \u001b[0;34m=\u001b[0m \u001b[0mfilter\u001b[0m\u001b[0;34m(\u001b[0m\u001b[0;32mlambda\u001b[0m \u001b[0mtup\u001b[0m\u001b[0;34m:\u001b[0m \u001b[0mabs\u001b[0m\u001b[0;34m(\u001b[0m\u001b[0mtup\u001b[0m\u001b[0;34m[\u001b[0m\u001b[0;36m1\u001b[0m\u001b[0;34m]\u001b[0m\u001b[0;34m)\u001b[0m \u001b[0;34m!=\u001b[0m \u001b[0;36m0\u001b[0m\u001b[0;34m,\u001b[0m \u001b[0mcoefficients\u001b[0m\u001b[0;34m)\u001b[0m\u001b[0;34m\u001b[0m\u001b[0m\n\u001b[1;32m      6\u001b[0m \u001b[0mimportant_coef\u001b[0m\u001b[0;34m\u001b[0m\u001b[0m\n",
      "\u001b[0;32m/Users/james/anaconda/lib/python2.7/site-packages/sklearn/svm/base.pyc\u001b[0m in \u001b[0;36mcoef_\u001b[0;34m(self)\u001b[0m\n\u001b[1;32m    447\u001b[0m     \u001b[0;32mdef\u001b[0m \u001b[0mcoef_\u001b[0m\u001b[0;34m(\u001b[0m\u001b[0mself\u001b[0m\u001b[0;34m)\u001b[0m\u001b[0;34m:\u001b[0m\u001b[0;34m\u001b[0m\u001b[0m\n\u001b[1;32m    448\u001b[0m         \u001b[0;32mif\u001b[0m \u001b[0mself\u001b[0m\u001b[0;34m.\u001b[0m\u001b[0mkernel\u001b[0m \u001b[0;34m!=\u001b[0m \u001b[0;34m'linear'\u001b[0m\u001b[0;34m:\u001b[0m\u001b[0;34m\u001b[0m\u001b[0m\n\u001b[0;32m--> 449\u001b[0;31m             raise ValueError('coef_ is only available when using a '\n\u001b[0m\u001b[1;32m    450\u001b[0m                              'linear kernel')\n\u001b[1;32m    451\u001b[0m \u001b[0;34m\u001b[0m\u001b[0m\n",
      "\u001b[0;31mValueError\u001b[0m: coef_ is only available when using a linear kernel"
     ]
    }
   ],
   "source": [
    "# plt.scatter(trend_target, trend_elastic_net.predict(trend_data))\n",
    "# plt.show()\n",
    "\n",
    "coefficients = sorted([(trend_feature_cols[i], trend_elastic_net.coef_[i]) for i in range(len(trend_feature_cols))], key=lambda tup: abs(tup[1]), reverse=True)\n",
    "important_coef = filter(lambda tup: abs(tup[1]) != 0, coefficients)\n",
    "important_coef"
   ]
  },
  {
   "cell_type": "code",
   "execution_count": null,
   "metadata": {
    "collapsed": false
   },
   "outputs": [],
   "source": [
    "for tup in important_coef:\n",
    "    if 'slope' in str(tup[0]):\n",
    "        continue\n",
    "    plt.figure()\n",
    "    plt.title('{}'.format(str(tup[0]) + ' ' + str(tup[1])))\n",
    "    plt.scatter(trend_df[tup[0]], trend_df['next-eff'])"
   ]
  },
  {
   "cell_type": "code",
   "execution_count": null,
   "metadata": {
    "collapsed": true
   },
   "outputs": [],
   "source": [
    "plt.scatter(trend_elastic_net.predict(trend_data), trend_target))"
   ]
  },
  {
   "cell_type": "code",
   "execution_count": null,
   "metadata": {
    "collapsed": true
   },
   "outputs": [],
   "source": [
    "# TODO: remove all outliers (bottom 10%?????)"
   ]
  }
 ],
 "metadata": {
  "kernelspec": {
   "display_name": "Python 2",
   "language": "python",
   "name": "python2"
  },
  "language_info": {
   "codemirror_mode": {
    "name": "ipython",
    "version": 2
   },
   "file_extension": ".py",
   "mimetype": "text/x-python",
   "name": "python",
   "nbconvert_exporter": "python",
   "pygments_lexer": "ipython2",
   "version": "2.7.10"
  }
 },
 "nbformat": 4,
 "nbformat_minor": 0
}
